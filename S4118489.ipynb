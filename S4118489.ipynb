{
 "cells": [
  {
   "cell_type": "markdown",
   "id": "a29e5efa-21f1-4aaf-a7ea-16b6c3c853d1",
   "metadata": {},
   "source": [
    "# COSC2779 - Deep Learning - Assignment 1"
   ]
  },
  {
   "cell_type": "markdown",
   "id": "3faefec8-7959-45e8-ae38-c77a508012b8",
   "metadata": {},
   "source": [
    "#### Shamal Sandeep Perumpulla Arachchige\n",
    "#### S4118489"
   ]
  }
 ],
 "metadata": {
  "kernelspec": {
   "display_name": "conda_python3",
   "language": "python",
   "name": "conda_python3"
  },
  "language_info": {
   "codemirror_mode": {
    "name": "ipython",
    "version": 3
   },
   "file_extension": ".py",
   "mimetype": "text/x-python",
   "name": "python",
   "nbconvert_exporter": "python",
   "pygments_lexer": "ipython3",
   "version": "3.10.18"
  }
 },
 "nbformat": 4,
 "nbformat_minor": 5
}
